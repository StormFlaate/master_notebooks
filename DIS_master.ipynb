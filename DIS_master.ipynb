{
 "cells": [
  {
   "cell_type": "code",
   "execution_count": 40,
   "id": "976422aa",
   "metadata": {},
   "outputs": [],
   "source": [
    "import numpy as np\n",
    "import networkx as nx\n",
    "import math\n",
    "import itertools"
   ]
  },
  {
   "cell_type": "markdown",
   "id": "31d6a3cf",
   "metadata": {},
   "source": [
    "### Pagerank eigenvalue and iterative"
   ]
  },
  {
   "cell_type": "markdown",
   "id": "22ff5258",
   "metadata": {},
   "source": [
    "$\n",
    "L_1 =\n",
    "    \\begin{bmatrix}\n",
    "        0 \\\\\n",
    "        1 \\\\\n",
    "        1 \\\\\n",
    "    \\end{bmatrix},\n",
    "L_2 = \n",
    "    \\begin{bmatrix}\n",
    "        0 \\\\\n",
    "        0 \\\\\n",
    "        1 \\\\\n",
    "    \\end{bmatrix},\n",
    "L_3 = \n",
    "    \\begin{bmatrix}\n",
    "        1 \\\\\n",
    "        0 \\\\\n",
    "        0 \\\\\n",
    "    \\end{bmatrix},\n",
    "L =  \n",
    "    \\begin{bmatrix}\n",
    "        0 & 0 & 1 \\\\\n",
    "        1 & 0 & 0 \\\\\n",
    "        1 & 1 & 0 \\\\\n",
    "    \\end{bmatrix},\n",
    "R =  \n",
    "    \\begin{bmatrix}\n",
    "        0 & 0 & 1 \\\\\n",
    "        0.5 & 0 & 0 \\\\\n",
    "        0.5 & 1 & 0 \\\\\n",
    "    \\end{bmatrix},\n",
    "\\vec{p} =\n",
    "    \\begin{bmatrix}\n",
    "        0.667 \\\\\n",
    "        0.333 \\\\\n",
    "        0.667 \\\\\n",
    "  \\end{bmatrix}\n",
    "$"
   ]
  },
  {
   "cell_type": "code",
   "execution_count": 24,
   "id": "9223aed3",
   "metadata": {},
   "outputs": [],
   "source": [
    "def create_Rmatrix(L):\n",
    "    \"\"\"\n",
    "    This matrix will take a L (NxN) matrix in and create a R matrix\n",
    "    \"\"\"\n",
    "    #R = np.multiply(L, 1 / np.sum(L,axis=0)) # - faster runtime if no column is zero\n",
    "\n",
    "    X = np.sum(L,axis=0)\n",
    "    n_nodes = L.shape[0]\n",
    "    R = np.zeros((n_nodes, n_nodes))\n",
    "    for i in range(L.shape[0]):\n",
    "        for j in range(L.shape[1]):\n",
    "            R[i,j] = L[i,j] / X[0,j] if X[0,j] != 0 else 0\n",
    "            \n",
    "    #R = np.multiply(L,R)\n",
    "    return R"
   ]
  },
  {
   "cell_type": "code",
   "execution_count": 25,
   "id": "a4ec327e",
   "metadata": {},
   "outputs": [],
   "source": [
    "def pagerank_eigen(L, R=None):\n",
    "    #Construct transition probability matrix from L\n",
    "    if R is None: R = create_Rmatrix(L)\n",
    "    #Compute eigen-vectors and eigen-values of R\n",
    "    eigenvalues, eigenvectors = np.linalg.eig(R)\n",
    "    #Take the eigen-vector with maximum eigven-value\n",
    "    p = eigenvectors[:,np.argmax(np.absolute(eigenvalues))]\n",
    "    return (R,p)"
   ]
  },
  {
   "cell_type": "code",
   "execution_count": null,
   "id": "a70deed1",
   "metadata": {},
   "outputs": [],
   "source": [
    "def pagerank_iterative(L, R=None):\n",
    "    if R is None: #We might want to compute R outside this function to avoid recomputing large matrix\n",
    "        R = np.multiply(L, 1 / np.sum(L,axis=0))\n",
    "    \n",
    "    N = R.shape[0]\n",
    "    e = np.ones(shape=(N,1))\n",
    "    q = 0.9\n",
    "\n",
    "    p = e\n",
    "    delta = 1\n",
    "    epsilon = 0.001\n",
    "    i = 0\n",
    "    while delta > epsilon:\n",
    "        p_prev = p\n",
    "        p = np.matmul(q * R, p_prev)\n",
    "        p = p + (1-q) / N * e\n",
    "        delta = np.linalg.norm(p-p_prev,1)\n",
    "        i += 1\n",
    "\n",
    "    print(\"Converged after {0} iterations\".format(i))\n",
    "    return R,p"
   ]
  },
  {
   "cell_type": "code",
   "execution_count": 26,
   "id": "69c241db",
   "metadata": {},
   "outputs": [],
   "source": [
    "L = np.matrix([\n",
    "    [0,0,1], \n",
    "    [1,0,0], \n",
    "    [1,1,0]\n",
    "])\n",
    "\n",
    "create_Rmatrix(L)\n",
    "pagerank_eigen(L);"
   ]
  },
  {
   "cell_type": "markdown",
   "id": "3712d0b0",
   "metadata": {},
   "source": [
    "### HITS Algorithm - hubs and authorities"
   ]
  },
  {
   "cell_type": "code",
   "execution_count": null,
   "id": "849862a7",
   "metadata": {},
   "outputs": [],
   "source": [
    "def hits_iterative(A, k = 10):\n",
    "    N = A.shape[0]\n",
    "    auth0, hub0 = 1 / (N*N) * np.ones(N), 1 / (N*N) * np.ones(N) \n",
    "    authprev, hubprev = auth0, hub0\n",
    "    delta1 = delta2 = 1\n",
    "    epsilon = 0.001 # We can strictly check for convergence rate of HITS algorithm\n",
    "    l = 0\n",
    "    while l < k and delta1 > epsilon and delta2 > epsilon:\n",
    "        hub = np.matmul(A, authprev)\n",
    "        auth = np.matmul(np.transpose(A), hub) \n",
    "        auth = auth / np.linalg.norm(auth,2)\n",
    "        hub = hub / np.linalg.norm(hub,2)\n",
    "        delta1 = np.linalg.norm(auth-authprev,1)\n",
    "        delta2 = np.linalg.norm(hub-hubprev,1)\n",
    "        authprev = auth\n",
    "        hubprev = hub\n",
    "        l += 1\n",
    "    \n",
    "    print(\"Ran a total of {0} iterations with the convergence rate delta1, delta2={1},{2}\".format(l, delta1, delta2))\n",
    "    return authprev, hubprev"
   ]
  },
  {
   "cell_type": "markdown",
   "id": "267884d0",
   "metadata": {},
   "source": [
    "### Modularity"
   ]
  },
  {
   "cell_type": "code",
   "execution_count": 27,
   "id": "86378ad7",
   "metadata": {},
   "outputs": [],
   "source": [
    "import itertools\n",
    "# The community label of a node can be accessed by G[node_id]['community']\n",
    "# The degree of a node: G.degree[node_id]\n",
    "# The neighbors of a node: G.neighbors(node_id)\n",
    "# Number of edges between 2 nodes: G.number_of_edges(node_1, node_2)\n",
    "def compute_modularity(G):\n",
    "    m = len(G.edges)\n",
    "    Q = 0\n",
    "    nodes_dct = {}\n",
    "    \n",
    "    # Makes a nodes_dct: key: community | value: [list of nodes in community]\n",
    "    for node in G.nodes:\n",
    "        community = G.nodes[node]['community']\n",
    "        if community in nodes_dct:\n",
    "            current_list = nodes_dct[community]\n",
    "            current_list.append(node)\n",
    "            nodes_dct[community] = current_list\n",
    "        else:\n",
    "            nodes_dct[community] = [node]\n",
    "            \n",
    "    \n",
    "    # number of links between nodes in module \"S\"    \n",
    "    for community, value_list in nodes_dct.items():\n",
    "        ls = 0\n",
    "        ds = 0\n",
    "        combinations = itertools.combinations(value_list, 2)\n",
    "        # finds number of links between nodes in each module\n",
    "        for subset in combinations: \n",
    "            links = G.number_of_edges(subset[0],subset[1])\n",
    "            ls += links\n",
    "        for node_id in value_list:\n",
    "            ds += G.degree[node_id]\n",
    "        Q += ls/m - (ds/(2*m))**2\n",
    "                  \n",
    "    return Q"
   ]
  },
  {
   "cell_type": "markdown",
   "id": "5c2f7229",
   "metadata": {},
   "source": [
    "### Betweenness centrality\n",
    "Normalized: True/False"
   ]
  },
  {
   "cell_type": "code",
   "execution_count": 30,
   "id": "74456926",
   "metadata": {},
   "outputs": [
    {
     "data": {
      "image/png": "[encoded data removed]",
      "text/plain": [
       "<Figure size 432x288 with 1 Axes>"
      ]
     },
     "metadata": {},
     "output_type": "display_data"
    }
   ],
   "source": [
    "M = [\"0,1,2\",\n",
    "\"1,0,2\",\n",
    "\"2,0,1,3\",\n",
    "\"3,2,4,5\",\n",
    "\"4,3,5\",\n",
    "\"5,3,4\"\n",
    "    ]\n",
    "G=nx.parse_adjlist(M, nodetype=int, delimiter=\",\")\n",
    "nx.draw_networkx(G)"
   ]
  },
  {
   "cell_type": "code",
   "execution_count": 35,
   "id": "3960c78f",
   "metadata": {},
   "outputs": [
    {
     "data": {
      "text/plain": [
       "{(0, 1): 1.0,\n",
       " (0, 2): 4.0,\n",
       " (1, 2): 4.0,\n",
       " (2, 3): 9.0,\n",
       " (3, 4): 4.0,\n",
       " (3, 5): 4.0,\n",
       " (4, 5): 1.0}"
      ]
     },
     "execution_count": 35,
     "metadata": {},
     "output_type": "execute_result"
    }
   ],
   "source": [
    "nx.betweenness_centrality(G, k=None, normalized=True, weight=None,seed=None)\n",
    "nx.edge_betweenness_centrality(G, k=None, normalized=False, weight=None,seed=None)"
   ]
  },
  {
   "cell_type": "markdown",
   "id": "b7d0aab9",
   "metadata": {},
   "source": [
    "## Collaberative predictions"
   ]
  },
  {
   "cell_type": "markdown",
   "id": "c1a16e6a",
   "metadata": {},
   "source": [
    "**Cosine similarity for items and users. Only difference is the transpose:**"
   ]
  },
  {
   "cell_type": "code",
   "execution_count": 63,
   "id": "7cb8261f",
   "metadata": {},
   "outputs": [],
   "source": [
    "# from sklearn.metrics.pairwise import pairwise_distances\n",
    "# user_similarity = 1- pairwise_distances(train_data_matrix, metric='cosine')\n",
    "# item_similarity = 1-pairwise_distances(train_data_matrix.T, metric='cosine')\n"
   ]
  },
  {
   "cell_type": "code",
   "execution_count": 77,
   "id": "cb8752aa",
   "metadata": {},
   "outputs": [
    {
     "data": {
      "text/plain": [
       "array([0, 1, 2])"
      ]
     },
     "execution_count": 77,
     "metadata": {},
     "output_type": "execute_result"
    }
   ],
   "source": [
    "from sklearn.metrics.pairwise import cosine_similarity\n",
    "arr_1 = np.array([1,2,3])\n",
    "arr_2 = np.array([[1,2,3], [2,3,4], [10,21,43]])\n",
    "cos_sim = cosine_similarity(arr_1.reshape(1,-1), arr_2)\n",
    "result = np.argsort(cos_sim, axis=-1, order=None).flatten()\n",
    "np.flip(result)"
   ]
  },
  {
   "cell_type": "markdown",
   "id": "57d129fd",
   "metadata": {},
   "source": [
    "### User based prediction"
   ]
  },
  {
   "cell_type": "code",
   "execution_count": 36,
   "id": "b2abce2c",
   "metadata": {},
   "outputs": [],
   "source": [
    "def user_based_predict(ratings, similarity):\n",
    "    pred = np.zeros(ratings.shape)\n",
    "    numb_users, numb_items = ratings.shape\n",
    "    avg_vec = np.true_divide(ratings.sum(1),(ratings!=0).sum(1))\n",
    "    \n",
    "    for a in tqdm(range(numb_items)):\n",
    "        for x in range(numb_users):\n",
    "            if ratings[x, a] == 0:\n",
    "                \n",
    "                avg_x = avg_vec[x]\n",
    "                avg_vec_rest = np.append(avg_vec[:x], avg_vec[x+1:])\n",
    "                item_a_ratings = np.append(ratings[:,a][:x], ratings[:,a][x+1:])\n",
    "                sim_vec = np.delete(similarity[x],x)\n",
    "                \n",
    "                mask = (item_a_ratings != 0)\n",
    "                # Only do the subtraction where both A1 & A2 are nonzero,\n",
    "                # otherwise copy the A2 value\n",
    "                over = np.where(mask, sim_vec*(item_a_ratings-avg_vec_rest), 0).sum()\n",
    "                under = np.absolute(np.where(mask, sim_vec, 0)).sum()\n",
    "                \n",
    "                if under > 0:\n",
    "                    pred[x, a] = avg_x + over/under\n",
    "                else: \n",
    "                    pred[x, a] = avg_x \n",
    "            \n",
    "            else:\n",
    "                pred[x, a] = ratings[x, a]\n",
    "  \n",
    "            if under > 0:\n",
    "                pred[x, a] = avg_x + over/under\n",
    "            else:\n",
    "                pred[x, a] = avg_x\n",
    "\n",
    "    return pred\n",
    "\n",
    "\n",
    "## solution based\n",
    "def user_based_predict(ratings, similarity):\n",
    "    filled_matrix = np.zeros((n_users, n_items))\n",
    "    \n",
    "    # compute the average ratings for each user\n",
    "    tmp = train_data_matrix.copy()\n",
    "    tmp[tmp == 0] = np.nan\n",
    "    user_average_ratings = np.nanmean(tmp, axis=1)\n",
    "    \n",
    "    # loop over all the items\n",
    "    for i in tqdm(range(n_items)):\n",
    "        # get the users who rated this item\n",
    "        ranked_users_indices = train_data_matrix[:,i].nonzero()[0]\n",
    "\n",
    "        for u in range(n_users):\n",
    "            numerator = 0\n",
    "            denominator = 0\n",
    "            for y in ranked_users_indices:\n",
    "                numerator+=user_similarity[u,y]*(train_data_matrix[y,i]-user_average_ratings[y])\n",
    "                denominator+=np.abs(user_similarity[u,y])\n",
    "            if denominator>0:\n",
    "                filled_matrix[u,i]= user_average_ratings[u]+ numerator/denominator\n",
    "            else:\n",
    "                filled_matrix[u,i]= user_average_ratings[u]\n",
    "\n",
    "    # we ensure that the ratings are in the expected range\n",
    "    filled_matrix.clip(0,5)\n",
    "    return filled_matrix  "
   ]
  },
  {
   "cell_type": "markdown",
   "id": "38990123",
   "metadata": {},
   "source": [
    "### Item based prediction"
   ]
  },
  {
   "cell_type": "code",
   "execution_count": 37,
   "id": "928df881",
   "metadata": {},
   "outputs": [],
   "source": [
    "def item_based_predict(ratings, similarity):\n",
    "    pred = np.zeros(ratings.shape)\n",
    "    numb_users, numb_ratings = ratings.shape\n",
    "    for user_id, user_ratings in tqdm(enumerate(ratings)):\n",
    "        for movie_i, movie_rating in enumerate(user_ratings):\n",
    "            # Then the movie is not rated yet\n",
    "            if movie_rating == 0:\n",
    "                movie_sum = 0\n",
    "                movie_count = 0\n",
    "                for i in range(numb_ratings):\n",
    "                    cur_rating = user_ratings[i]\n",
    "                    if cur_rating > 0:\n",
    "                        movie_sum += cur_rating*similarity[movie_i,i]\n",
    "                        movie_count += np.abs(similarity[movie_i,i])\n",
    "                if movie_count > 0:\n",
    "                    pred_rating = movie_sum/movie_count\n",
    "                    pred[user_id, movie_i] = pred_rating\n",
    "                else:\n",
    "                    pred[user_id, movie_i] = np.random.randint(1,6, dtype=int)\n",
    "            else:\n",
    "                pred[user_id, movie_i] = ratings[user_id, movie_i]\n",
    "                \n",
    "    return pred\n",
    "\n",
    "## solution based\n",
    "def item_based_predict(ratings, similarity):\n",
    "    filled_matrix = np.zeros((n_users, n_items))\n",
    "    # loop over all the users\n",
    "    for u in tqdm(range(n_users)):\n",
    "        # get the items rated by this user\n",
    "        ranked_items_indices = train_data_matrix[u,:].nonzero()[0]\n",
    "        for i in range(n_items):\n",
    "            numerator = 0\n",
    "            denominator = 0\n",
    "            for j in ranked_items_indices:\n",
    "                numerator+=item_similarity[i,j]*train_data_matrix[u,j]\n",
    "                denominator+=np.abs(item_similarity[i,j])\n",
    "            if denominator>0:\n",
    "                filled_matrix[u,i]= numerator/denominator\n",
    "            else:\n",
    "                # simply take a random rating in that case \n",
    "                filled_matrix[u,i]= np.random.randint(1,6)\n",
    "    return filled_matrix  "
   ]
  },
  {
   "cell_type": "markdown",
   "id": "98e7db17",
   "metadata": {},
   "source": [
    "## TF-IDF"
   ]
  },
  {
   "cell_type": "code",
   "execution_count": 38,
   "id": "23bd5745",
   "metadata": {},
   "outputs": [],
   "source": [
    "# IDF\n",
    "def idf_values(vocabulary, documents):\n",
    "    idf = {}\n",
    "    num_documents = len(documents)\n",
    "    for i, term in enumerate(vocabulary):\n",
    "        counter = 0\n",
    "        for doc in documents:\n",
    "            if term in set(doc):\n",
    "                counter += 1\n",
    "        idf[term] = math.log(num_documents/counter, math.e)\n",
    "    return idf\n",
    "\n",
    "# TF-IDF\n",
    "# Function to generate the vector for a document (with normalisation)\n",
    "def vectorize(document, vocabulary, idf):\n",
    "    vector = [0]*len(vocabulary)\n",
    "    counts = Counter(document)\n",
    "    max_count = counts.most_common(1)[0][1]\n",
    "    for i,term in enumerate(vocabulary):\n",
    "        vector[i] = idf[term]*counts[term]/max_count # YOUR CODE HERE\n",
    "    return vector"
   ]
  },
  {
   "cell_type": "markdown",
   "id": "325ee1bc",
   "metadata": {},
   "source": [
    "### Cosine similarity "
   ]
  },
  {
   "cell_type": "code",
   "execution_count": 50,
   "id": "c77b91d7",
   "metadata": {},
   "outputs": [],
   "source": [
    "import math\n",
    "v1, v2 = np.array([1,2,3,4,5,6,7,8,9,10]), np.array([1,2,12,4,23,6,23,8,9,1])"
   ]
  },
  {
   "cell_type": "code",
   "execution_count": 48,
   "id": "d1e0eea9",
   "metadata": {},
   "outputs": [
    {
     "data": {
      "text/plain": [
       "0.7124637297801573"
      ]
     },
     "execution_count": 48,
     "metadata": {},
     "output_type": "execute_result"
    }
   ],
   "source": [
    "def cosine_similarity_math(v1,v2):\n",
    "    sumxx, sumxy, sumyy = 0, 0, 0\n",
    "    for i in range(len(v1)):\n",
    "        x = v1[i]; y = v2[i]\n",
    "        sumxx += x*x\n",
    "        sumyy += y*y\n",
    "        sumxy += x*y\n",
    "    if sumxy == 0:\n",
    "            result = 0\n",
    "    else:\n",
    "            result = sumxy/(math.sqrt(sumxx*sumyy))  # YOUR CODE HERE\n",
    "    return result"
   ]
  },
  {
   "cell_type": "code",
   "execution_count": 51,
   "id": "973596c3",
   "metadata": {},
   "outputs": [],
   "source": [
    "def cosine_similarity_speed(v1, v2):\n",
    "    return np.dot(v1,v2)/np.sqrt(np.dot(v1,v1)*np.dot(v2,v2))"
   ]
  },
  {
   "cell_type": "markdown",
   "id": "df255d82",
   "metadata": {},
   "source": [
    "### Map score"
   ]
  },
  {
   "cell_type": "code",
   "execution_count": 59,
   "id": "e22cc679",
   "metadata": {},
   "outputs": [],
   "source": [
    "def compute_map2(queries, K=10):\n",
    "    map_score = 0\n",
    "    for i, query in enumerate(queries):\n",
    "        predict = search_vec(query, K)\n",
    "        gt = search_vec_sklearn(query, features)\n",
    "        p_int = []\n",
    "        for k in range(K, 0, -1):\n",
    "            pk = compute_precision_at_k(predict, gt, k)\n",
    "            \n",
    "            # Compute interpolated precision\n",
    "            pint_k = max([pk] + p_int)\n",
    "            \n",
    "            # Prepend pint_k to p_int\n",
    "            p_int.insert(0, pint_k)\n",
    "        # Only consider precision values when retrieving a relevant document\n",
    "        p_int_relevant = sum(p_int[i] for i, retrieved in enumerate(predict) if retrieved in gt)\n",
    "        \n",
    "        # Divide by number of relevant documents\n",
    "        map_score += p_int_relevant / len(gt)\n",
    "    map_score = map_score / len(queries)\n",
    "    return map_score"
   ]
  },
  {
   "cell_type": "markdown",
   "id": "5088c699",
   "metadata": {},
   "source": [
    "### Rocchio algorithm\n",
    "\\begin{equation}\n",
    "\\vec{q_m} = \\alpha \\vec{q_0} + \\frac{\\beta}{|D_r|} \\sum_{\\vec{d_j} \\in D_r} \\vec{d_j} - \\frac{\\gamma}{|D_{nr}|} \\sum_{\\vec{d_j} \\in D_{nr}} \\vec{d_j}\n",
    "\\end{equation}"
   ]
  },
  {
   "cell_type": "code",
   "execution_count": 61,
   "id": "9ac872fa",
   "metadata": {},
   "outputs": [],
   "source": [
    "def rocchio_algo(relevant_doc_vecs, non_relevant_doc_vecs, query_vector, alpha, beta, gamma):\n",
    "    relevant_doc_vecs = np.array(relevant_doc_vecs)\n",
    "    non_relevant_doc_vecs = np.array(non_relevant_doc_vecs)\n",
    "    query_vector = np.array(query_vector)\n",
    "#    print(relevant_doc_vecs.shape)\n",
    "#    print(non_relevant_doc_vecs.shape)\n",
    "#    print(query_vector.shape)\n",
    "    \n",
    "    num_rel = len(relevant_doc_vecs)\n",
    "    num_non_rel = len(non_relevant_doc_vecs)\n",
    "    \n",
    "    # Compute the first term in the Rocchio equation\n",
    "    norm_query_vector = alpha*query_vector\n",
    "    \n",
    "    # Compute the second term in the Rocchio equation\n",
    "\n",
    "    norm_sum_relevant = (beta/num_rel)*relevant_doc_vecs.sum(axis=0)\n",
    "    \n",
    "    # Compute the last term in the Rocchio equation\n",
    "\n",
    "    norm_sum_non_relevant = -(gamma/num_non_rel)*non_relevant_doc_vecs.sum(axis=0)\n",
    "    \n",
    "    # Sum all the terms\n",
    "    modified_query_vector = norm_query_vector + norm_sum_relevant + norm_sum_non_relevant\n",
    "    \n",
    "    # Ignore negative elements\n",
    "    modified_query_vector = np.where(modified_query_vector<0, 0, modified_query_vector)\n",
    "    return modified_query_vector"
   ]
  },
  {
   "cell_type": "markdown",
   "id": "4d93b8c4",
   "metadata": {},
   "source": [
    "### Fagins aglorithm"
   ]
  },
  {
   "cell_type": "code",
   "execution_count": 62,
   "id": "f19e994e",
   "metadata": {},
   "outputs": [],
   "source": [
    "def fagin_algorithm(query, h, k, vocabulary):\n",
    "    \n",
    "    # Split and stem the query\n",
    "    q = query.split()\n",
    "    q = set([stemmer.stem(w) for w in q])\n",
    "    query_term_cnt = len(q)\n",
    "    \n",
    "    # select the posting lists for the query terms\n",
    "    posting_lists = {}\n",
    "    for term in q:\n",
    "        if term in h:\n",
    "            posting_lists[term] = h[term]\n",
    "    \n",
    "    max_len = len(documents)\n",
    "    \n",
    "    # Traverse the selected posting lists until we found k documents that appear in ALL posting lists\n",
    "    # This corresponds to phase 1 of Fagin's algorithm.\n",
    "    # As a result you produce a dictionary documents_occurrences, with the document identifiers as keys, \n",
    "    # and the number of documents found as value.\n",
    "    # We stop traversing the posting lists until we have found k documents that appear in ALL posting lists \n",
    "    # of the query terms\n",
    "    \n",
    "    documents_occurrences = {}\n",
    "    k_countdown = k\n",
    "    for i in range(max_len):\n",
    "        for key, val in posting_lists.items():\n",
    "            if val[0] in documents_occurrences:\n",
    "                documents_occurrences[val[i][0]] += 1\n",
    "                if documents_occurrences[val[i][0]] == k:\n",
    "                    k_countdown -= 1\n",
    "            else:\n",
    "                documents_occurrences[val[i][0]] = 1\n",
    "        if k_countdown == 0:\n",
    "            break\n",
    "                \n",
    "            \n",
    "        \n",
    "\n",
    "    # YOUR CODE HERE\n",
    "                \n",
    "\n",
    "        \n",
    "    # Retrieve for the found documents the tfidf values and add them up.\n",
    "    # For simplicity, we do not distinguish the cases whether the values have already been retrieved in the \n",
    "    # previous phase, or whether we use random access to obtain those values\n",
    "    \n",
    "    tfidf = {}\n",
    "    for d in documents_occurrences.keys():\n",
    "        t = 0\n",
    "        for term in q:\n",
    "            t = t + dict(posting_lists[term])[d]\n",
    "        tfidf[d] = t\n",
    "        \n",
    "    # Finally we compute the top-k documents and return the answer\n",
    "    \n",
    "    ans = sorted(tfidf.items(), key=lambda x:x[1], reverse = True)[:k]\n",
    "    return ans"
   ]
  },
  {
   "cell_type": "code",
   "execution_count": null,
   "id": "cc6ede7c",
   "metadata": {},
   "outputs": [],
   "source": []
  }
 ],
 "metadata": {
  "kernelspec": {
   "display_name": "Python 3 (ipykernel)",
   "language": "python",
   "name": "python3"
  },
  "language_info": {
   "codemirror_mode": {
    "name": "ipython",
    "version": 3
   },
   "file_extension": ".py",
   "mimetype": "text/x-python",
   "name": "python",
   "nbconvert_exporter": "python",
   "pygments_lexer": "ipython3",
   "version": "3.9.7"
  }
 },
 "nbformat": 4,
 "nbformat_minor": 5
}
