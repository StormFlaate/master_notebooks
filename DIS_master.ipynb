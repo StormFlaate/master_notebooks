{
 "cells": [
  {
   "cell_type": "code",
   "execution_count": 28,
   "id": "a7a0aeab",
   "metadata": {},
   "outputs": [],
   "source": [
    "import numpy as np\n",
    "import networkx as nx"
   ]
  },
  {
   "cell_type": "markdown",
   "id": "e8c03e0a",
   "metadata": {},
   "source": [
    "### Pagerank eigenvalue and iterative"
   ]
  },
  {
   "cell_type": "markdown",
   "id": "15f52ebc",
   "metadata": {},
   "source": [
    "$\n",
    "L_1 =\n",
    "    \\begin{bmatrix}\n",
    "        0 \\\\\n",
    "        1 \\\\\n",
    "        1 \\\\\n",
    "    \\end{bmatrix},\n",
    "L_2 = \n",
    "    \\begin{bmatrix}\n",
    "        0 \\\\\n",
    "        0 \\\\\n",
    "        1 \\\\\n",
    "    \\end{bmatrix},\n",
    "L_3 = \n",
    "    \\begin{bmatrix}\n",
    "        1 \\\\\n",
    "        0 \\\\\n",
    "        0 \\\\\n",
    "    \\end{bmatrix},\n",
    "L =  \n",
    "    \\begin{bmatrix}\n",
    "        0 & 0 & 1 \\\\\n",
    "        1 & 0 & 0 \\\\\n",
    "        1 & 1 & 0 \\\\\n",
    "    \\end{bmatrix},\n",
    "R =  \n",
    "    \\begin{bmatrix}\n",
    "        0 & 0 & 1 \\\\\n",
    "        0.5 & 0 & 0 \\\\\n",
    "        0.5 & 1 & 0 \\\\\n",
    "    \\end{bmatrix},\n",
    "\\vec{p} =\n",
    "    \\begin{bmatrix}\n",
    "        0.667 \\\\\n",
    "        0.333 \\\\\n",
    "        0.667 \\\\\n",
    "  \\end{bmatrix}\n",
    "$"
   ]
  },
  {
   "cell_type": "code",
   "execution_count": 24,
   "id": "144fd002",
   "metadata": {},
   "outputs": [],
   "source": [
    "def create_Rmatrix(L):\n",
    "    \"\"\"\n",
    "    This matrix will take a L (NxN) matrix in and create a R matrix\n",
    "    \"\"\"\n",
    "    #R = np.multiply(L, 1 / np.sum(L,axis=0)) # - faster runtime if no column is zero\n",
    "\n",
    "    X = np.sum(L,axis=0)\n",
    "    n_nodes = L.shape[0]\n",
    "    R = np.zeros((n_nodes, n_nodes))\n",
    "    for i in range(L.shape[0]):\n",
    "        for j in range(L.shape[1]):\n",
    "            R[i,j] = L[i,j] / X[0,j] if X[0,j] != 0 else 0\n",
    "            \n",
    "    #R = np.multiply(L,R)\n",
    "    return R"
   ]
  },
  {
   "cell_type": "code",
   "execution_count": 25,
   "id": "32b915df",
   "metadata": {},
   "outputs": [],
   "source": [
    "def pagerank_eigen(L, R=None):\n",
    "    #Construct transition probability matrix from L\n",
    "    if R is None: R = create_Rmatrix(L)\n",
    "    #Compute eigen-vectors and eigen-values of R\n",
    "    eigenvalues, eigenvectors = np.linalg.eig(R)\n",
    "    #Take the eigen-vector with maximum eigven-value\n",
    "    p = eigenvectors[:,np.argmax(np.absolute(eigenvalues))]\n",
    "    return (R,p)"
   ]
  },
  {
   "cell_type": "code",
   "execution_count": null,
   "id": "f2e202c3",
   "metadata": {},
   "outputs": [],
   "source": [
    "def pagerank_iterative(L, R=None):\n",
    "    if R is None: #We might want to compute R outside this function to avoid recomputing large matrix\n",
    "        R = np.multiply(L, 1 / np.sum(L,axis=0))\n",
    "    \n",
    "    N = R.shape[0]\n",
    "    e = np.ones(shape=(N,1))\n",
    "    q = 0.9\n",
    "\n",
    "    p = e\n",
    "    delta = 1\n",
    "    epsilon = 0.001\n",
    "    i = 0\n",
    "    while delta > epsilon:\n",
    "        p_prev = p\n",
    "        p = np.matmul(q * R, p_prev)\n",
    "        p = p + (1-q) / N * e\n",
    "        delta = np.linalg.norm(p-p_prev,1)\n",
    "        i += 1\n",
    "\n",
    "    print(\"Converged after {0} iterations\".format(i))\n",
    "    return R,p"
   ]
  },
  {
   "cell_type": "code",
   "execution_count": 26,
   "id": "d6ac6ea4",
   "metadata": {},
   "outputs": [],
   "source": [
    "L = np.matrix([\n",
    "    [0,0,1], \n",
    "    [1,0,0], \n",
    "    [1,1,0]\n",
    "])\n",
    "\n",
    "create_Rmatrix(L)\n",
    "pagerank_eigen(L);"
   ]
  },
  {
   "cell_type": "markdown",
   "id": "4e7d6088",
   "metadata": {},
   "source": [
    "### HITS Algorithm - hubs and authorities"
   ]
  },
  {
   "cell_type": "code",
   "execution_count": null,
   "id": "f5eff2bd",
   "metadata": {},
   "outputs": [],
   "source": [
    "def hits_iterative(A, k = 10):\n",
    "    N = A.shape[0]\n",
    "    auth0, hub0 = 1 / (N*N) * np.ones(N), 1 / (N*N) * np.ones(N) \n",
    "    authprev, hubprev = auth0, hub0\n",
    "    delta1 = delta2 = 1\n",
    "    epsilon = 0.001 # We can strictly check for convergence rate of HITS algorithm\n",
    "    l = 0\n",
    "    while l < k and delta1 > epsilon and delta2 > epsilon:\n",
    "        hub = np.matmul(A, authprev)\n",
    "        auth = np.matmul(np.transpose(A), hub) \n",
    "        auth = auth / np.linalg.norm(auth,2)\n",
    "        hub = hub / np.linalg.norm(hub,2)\n",
    "        delta1 = np.linalg.norm(auth-authprev,1)\n",
    "        delta2 = np.linalg.norm(hub-hubprev,1)\n",
    "        authprev = auth\n",
    "        hubprev = hub\n",
    "        l += 1\n",
    "    \n",
    "    print(\"Ran a total of {0} iterations with the convergence rate delta1, delta2={1},{2}\".format(l, delta1, delta2))\n",
    "    return authprev, hubprev"
   ]
  },
  {
   "cell_type": "markdown",
   "id": "4b9fbece",
   "metadata": {},
   "source": [
    "### Modularity"
   ]
  },
  {
   "cell_type": "code",
   "execution_count": 27,
   "id": "9f04b215",
   "metadata": {},
   "outputs": [],
   "source": [
    "import itertools\n",
    "# The community label of a node can be accessed by G[node_id]['community']\n",
    "# The degree of a node: G.degree[node_id]\n",
    "# The neighbors of a node: G.neighbors(node_id)\n",
    "# Number of edges between 2 nodes: G.number_of_edges(node_1, node_2)\n",
    "def compute_modularity(G):\n",
    "    m = len(G.edges)\n",
    "    Q = 0\n",
    "    nodes_dct = {}\n",
    "    \n",
    "    # Makes a nodes_dct: key: community | value: [list of nodes in community]\n",
    "    for node in G.nodes:\n",
    "        community = G.nodes[node]['community']\n",
    "        if community in nodes_dct:\n",
    "            current_list = nodes_dct[community]\n",
    "            current_list.append(node)\n",
    "            nodes_dct[community] = current_list\n",
    "        else:\n",
    "            nodes_dct[community] = [node]\n",
    "            \n",
    "    \n",
    "    # number of links between nodes in module \"S\"    \n",
    "    for community, value_list in nodes_dct.items():\n",
    "        ls = 0\n",
    "        ds = 0\n",
    "        combinations = itertools.combinations(value_list, 2)\n",
    "        # finds number of links between nodes in each module\n",
    "        for subset in combinations: \n",
    "            links = G.number_of_edges(subset[0],subset[1])\n",
    "            ls += links\n",
    "        for node_id in value_list:\n",
    "            ds += G.degree[node_id]\n",
    "        Q += ls/m - (ds/(2*m))**2\n",
    "                  \n",
    "    return Q"
   ]
  },
  {
   "cell_type": "markdown",
   "id": "e811ffef",
   "metadata": {},
   "source": [
    "### Betweenness centrality\n",
    "Normalized: True/False"
   ]
  },
  {
   "cell_type": "code",
   "execution_count": 30,
   "id": "3c7ba141",
   "metadata": {},
   "outputs": [
    {
     "data": {
      "image/png": "[encoded data removed]",
      "text/plain": [
       "<Figure size 432x288 with 1 Axes>"
      ]
     },
     "metadata": {},
     "output_type": "display_data"
    }
   ],
   "source": [
    "M = [\"0,1,2\",\n",
    "\"1,0,2\",\n",
    "\"2,0,1,3\",\n",
    "\"3,2,4,5\",\n",
    "\"4,3,5\",\n",
    "\"5,3,4\"\n",
    "    ]\n",
    "G=nx.parse_adjlist(M, nodetype=int, delimiter=\",\")\n",
    "nx.draw_networkx(G)"
   ]
  },
  {
   "cell_type": "code",
   "execution_count": 31,
   "id": "e049d356",
   "metadata": {},
   "outputs": [
    {
     "data": {
      "text/plain": [
       "{(0, 1): 1.0,\n",
       " (0, 2): 4.0,\n",
       " (1, 2): 4.0,\n",
       " (2, 3): 9.0,\n",
       " (3, 4): 4.0,\n",
       " (3, 5): 4.0,\n",
       " (4, 5): 1.0}"
      ]
     },
     "execution_count": 31,
     "metadata": {},
     "output_type": "execute_result"
    }
   ],
   "source": [
    "nx.betweenness_centrality(G, k=1, normalized=True, weight=None,seed=None)\n",
    "nx.edge_betweenness_centrality(G, k=None, normalized=False, weight=None,seed=None)"
   ]
  },
  {
   "cell_type": "code",
   "execution_count": null,
   "id": "8ab7aecf",
   "metadata": {},
   "outputs": [],
   "source": []
  }
 ],
 "metadata": {
  "kernelspec": {
   "display_name": "Python 3 (ipykernel)",
   "language": "python",
   "name": "python3"
  },
  "language_info": {
   "codemirror_mode": {
    "name": "ipython",
    "version": 3
   },
   "file_extension": ".py",
   "mimetype": "text/x-python",
   "name": "python",
   "nbconvert_exporter": "python",
   "pygments_lexer": "ipython3",
   "version": "3.9.7"
  }
 },
 "nbformat": 4,
 "nbformat_minor": 5
}
