{
 "cells": [
  {
   "cell_type": "markdown",
   "id": "f5ca2e8e",
   "metadata": {},
   "source": [
    "## Reading from files"
   ]
  },
  {
   "cell_type": "code",
   "execution_count": null,
   "id": "29b768bc",
   "metadata": {},
   "outputs": [],
   "source": [
    "df_1 = pd.read_csv(\"data.txt\",\n",
    "                 sep=\"\\n\",\n",
    "                 names=['column1', 'column2'],\n",
    "                 dtype=['Int64', 'string'])\n",
    "\n",
    "df_2 = pd.read_csv(\"data.csv\",\n",
    "                 sep=\",\",\n",
    "                 names=['column1', 'column2'],\n",
    "                 dtype=['Int64', 'string'])\n"
   ]
  }
 ],
 "metadata": {
  "kernelspec": {
   "display_name": "Python [conda env:adaexam] *",
   "language": "python",
   "name": "conda-env-adaexam-py"
  },
  "language_info": {
   "codemirror_mode": {
    "name": "ipython",
    "version": 3
   },
   "file_extension": ".py",
   "mimetype": "text/x-python",
   "name": "python",
   "nbconvert_exporter": "python",
   "pygments_lexer": "ipython3",
   "version": "3.8.12"
  }
 },
 "nbformat": 4,
 "nbformat_minor": 5
}
